{
 "cell_type": "markdown",
 "id": "4e26ea8b-caa1-44b4-bd7b-f2d73deb9b8b",
 "metadata": {},
 "source": [
  "<img src=\"https://github.com/MEmilyGomes/BNN-em-Python-Puro/blob/main/Imagens/logo.png?raw=true\" alt=\"Descrição da imagem\" style=\"width: 1000px; height: auto;\">\n",
  "\n",
  "<div style=\"padding: 10px; font-size: 45px; text-align: center;\">\n",
  "  <strong>Rede Neural Classificadora 🗃️:</strong>\n",
  "</div>\n",
  "\n",
  "<div style=\"padding: 10px; font-size: 36px; text-align: center;\">\n",
  "  <strong>Quem classifica a classe classificadora?</strong>\n",
  "</div>\n",
  "\n",
  "<div style=\"padding: 10px; font-size: 17px; text-align: center;\">\n",
  "  <strong>Autores:</strong> Maria Emily Nayla Gomes da Silva e Thomas Wolff Hannemann\n",
  "</div>\n",
  "\n",
  "<div style=\"padding: 10px; font-size: 17px; text-align: center;\">\n",
  "  <strong>Professor:</strong> Daniel R. Cassar\n",
  "</div>\n"
 ]
}
,
  {
   "cell_type": "markdown",
   "id": "5c4c13be-fed9-4233-9f38-8604b61236f8",
   "metadata": {},
   "source": [
    "<div style=\"background-color: lightblue; font-size: 18px; padding: 10px;\">\n",
    "<div style=\"text-align: justify\"><strong>Objetivo:</strong> Criar uma <em>Rede Neural Classificadora Binária</em> usando Python puro.</div>"
   ]
  },
  {
   "cell_type": "markdown",
   "id": "dcc65191-3acb-4b14-b2a4-67d5ff3ce195",
   "metadata": {},
   "source": [
    "# 🔎 Sumário\n",
    "\n",
    "<p style=\"font-size:16px; margin-left: 40px; margin-top: 4px; margin-bottom: 4px;\"><strong>1.</strong> Introdução</p>\n",
    "<p style=\"font-size:16px; margin-left: 40px; margin-top: 4px; margin-bottom: 4px;\"><strong>2.</strong> MLP classificadora em Python Puro</p>\n",
    "\n",
    "<p style=\"font-size:14px; margin-left: 80px; margin-top: 2px; margin-bottom: 2px;\"><strong>2.1.</strong> Importando o dataset</p>\n",
    "<p style=\"font-size:14px; margin-left: 80px; margin-top: 2px; margin-bottom: 2px;\"><strong>2.2.</strong> Importando as classes para MLP</p>\n",
    "\n",
    "<p style=\"font-size:13px; margin-left: 120px; margin-top: 2px; margin-bottom: 2px;\"><strong>2.2.1.</strong> Classe Valor </p>\n",
    "<p style=\"font-size:13px; margin-left: 120px; margin-top: 2px; margin-bottom: 2px;\"><strong>2.2.2.</strong> Classe Neuronio</p>\n",
    "<p style=\"font-size:13px; margin-left: 120px; margin-top: 2px; margin-bottom: 2px;\"><strong>2.2.3.</strong> Classe Camada</p>\n",
    "<p style=\"font-size:13px; margin-left: 120px; margin-top: 2px; margin-bottom: 2px;\"><strong>2.2.4.</strong> Classe MLP</p>\n",
    "\n",
    "<p style=\"font-size:14px; margin-left: 80px; margin-top: 2px; margin-bottom: 2px;\"><strong>2.3.</strong> Treinando a rede neural</p>\n",
    "\n",
    "<p style=\"font-size:13px; margin-left: 120px; margin-top: 2px; margin-bottom: 2px;\"><strong>2.3.1.</strong> Separando em treino e teste </p>\n",
    "<p style=\"font-size:13px; margin-left: 120px; margin-top: 2px; margin-bottom: 2px;\"><strong>2.3.2.</strong> Criando a MLP classificadora</p>\n",
    "<p style=\"font-size:13px; margin-left: 120px; margin-top: 2px; margin-bottom: 2px;\"><strong>2.3.3.</strong> Treinando com a loss específica para classificação</p>\n",
    "<p style=\"font-size:13px; margin-left: 120px; margin-top: 2px; margin-bottom: 2px;\"><strong>2.3.4.</strong> Performance da MLP</p>"
   ]
  },
  {
   "cell_type": "markdown",
   "id": "2bc9602e-64a5-4096-935c-1cf6cc9f7133",
   "metadata": {},
   "source": [
    "# 📝 Introdução\n",
    "\n",
    "<div style=\"text-align: justify\"> Neste caderno usaremos o dataset <strong>fmri</strong>, um dataset didático do Seaborn.$^{1}$ Os dados contidos nele são sobre um experimento de neuroimagem funcional (<strong>fMRI</strong>), e cada coluna nos indica: </div>\n",
    "<p>\n",
    " \n",
    "| Features     | Descrição                                                                                      |\n",
    "|-----------|-----------------------------------------------------------------------------------------------|\n",
    "| `subject` | Código identificador do participante.                                                         |\n",
    "| `timepoint` | Ponto no tempo em que a medição foi realizada – medida por TR (repetition time), que é o intervalo entre duas aquisições consecutivas de imagens do cérebro. |\n",
    "| `event`   | Tipo de estímulo que o participante recebeu.                                                  |\n",
    "| `region`  | Região cerebral onde a medição foi feita.                                                     |\n",
    "| `signal`  | Valor do sinal fMRI medido na região – a atividade cerebral registrada.                       |\n",
    "\n",
    " \n",
    "<div style=\"text-align: justify\"> Dessa forma, por meio de uma  <em>Rede Neural Artificial Classificadora Binária</em> utilizando Python puro, queremos prever a região cerebral onde a medição foi feita (<strong>region</strong>) a partir dos outros dados."
   ]
  },
  {
   "cell_type": "markdown",
   "id": "729beb73-20cb-4ad5-af58-d62fd536383f",
   "metadata": {},
   "source": [
    "# 🐍 MLP classificadora em Python Puro"
   ]
  },
  {
   "cell_type": "markdown",
   "id": "b5a91a14-af34-4d7d-8934-ea92ba7d0570",
   "metadata": {},
   "source": [
    "## 2.1. Importando o dataset\n",
    "\n",
    "Aqui estamos importando a biblioteca `seaborn`, e, a partir dela, o nosso dataset. Definimos os nossos atributos na lista `FEATURES`, na qual não consideramos apenas o atributo `subject`, por ser apenas o código identificador do participante.\n",
    "\n",
    "Assim, estruturamos o DataFrame que utilizaremos no restante do caderno."
   ]
  },
  {
   "cell_type": "code",
   "execution_count": 1,
   "id": "cf70c8f0-c502-4c59-aeb0-6d39e8f7a2ff",
   "metadata": {},
   "outputs": [
    {
     "data": {
      "text/html": [
       "<div>\n",
       "<style scoped>\n",
       "    .dataframe tbody tr th:only-of-type {\n",
       "        vertical-align: middle;\n",
       "    }\n",
       "\n",
       "    .dataframe tbody tr th {\n",
       "        vertical-align: top;\n",
       "    }\n",
       "\n",
       "    .dataframe thead th {\n",
       "        text-align: right;\n",
       "    }\n",
       "</style>\n",
       "<table border=\"1\" class=\"dataframe\">\n",
       "  <thead>\n",
       "    <tr style=\"text-align: right;\">\n",
       "      <th></th>\n",
       "      <th>timepoint</th>\n",
       "      <th>signal</th>\n",
       "      <th>event</th>\n",
       "      <th>region</th>\n",
       "    </tr>\n",
       "  </thead>\n",
       "  <tbody>\n",
       "    <tr>\n",
       "      <th>0</th>\n",
       "      <td>18</td>\n",
       "      <td>-0.017552</td>\n",
       "      <td>stim</td>\n",
       "      <td>parietal</td>\n",
       "    </tr>\n",
       "    <tr>\n",
       "      <th>1</th>\n",
       "      <td>14</td>\n",
       "      <td>-0.080883</td>\n",
       "      <td>stim</td>\n",
       "      <td>parietal</td>\n",
       "    </tr>\n",
       "    <tr>\n",
       "      <th>2</th>\n",
       "      <td>18</td>\n",
       "      <td>-0.081033</td>\n",
       "      <td>stim</td>\n",
       "      <td>parietal</td>\n",
       "    </tr>\n",
       "    <tr>\n",
       "      <th>3</th>\n",
       "      <td>18</td>\n",
       "      <td>-0.046134</td>\n",
       "      <td>stim</td>\n",
       "      <td>parietal</td>\n",
       "    </tr>\n",
       "    <tr>\n",
       "      <th>4</th>\n",
       "      <td>18</td>\n",
       "      <td>-0.037970</td>\n",
       "      <td>stim</td>\n",
       "      <td>parietal</td>\n",
       "    </tr>\n",
       "  </tbody>\n",
       "</table>\n",
       "</div>"
      ],
      "text/plain": [
       "   timepoint    signal event    region\n",
       "0         18 -0.017552  stim  parietal\n",
       "1         14 -0.080883  stim  parietal\n",
       "2         18 -0.081033  stim  parietal\n",
       "3         18 -0.046134  stim  parietal\n",
       "4         18 -0.037970  stim  parietal"
      ]
     },
     "execution_count": 1,
     "metadata": {},
     "output_type": "execute_result"
    }
   ],
   "source": [
    "# Para importar os datasets\n",
    "import seaborn as sns \n",
    "\n",
    "DATASET_NAME = \"fmri\"\n",
    "FEATURES = [\"timepoint\", \"signal\", \"event\",] \n",
    "TARGET = [\"region\"]\n",
    "\n",
    "df = sns.load_dataset(DATASET_NAME)\n",
    "\n",
    "# Montando o nosso DataFrame\n",
    "df = df.reindex(FEATURES + TARGET, axis=1)\n",
    "df = df.dropna()\n",
    "\n",
    "# Para mostrar como ficou\n",
    "df.loc[0:4]"
   ]
  },
  {
   "cell_type": "markdown",
   "id": "2388050f",
   "metadata": {},
   "source": [
    "Há alguma dúvida de que nosso alvo é binário? Dê uma olhada abaixo - brincadeira, estamos criando essa lista para montarmos nossa matriz confusão mais adiante. 🙂"
   ]
  },
  {
   "cell_type": "code",
   "execution_count": 2,
   "id": "7cefb28c-286b-4a7c-bc4b-055e23daff92",
   "metadata": {},
   "outputs": [
    {
     "data": {
      "text/plain": [
       "['parietal', 'frontal']"
      ]
     },
     "execution_count": 2,
     "metadata": {},
     "output_type": "execute_result"
    }
   ],
   "source": [
    "ordem_labels = df[\"region\"].unique().tolist()\n",
    "ordem_labels"
   ]
  },
  {
   "cell_type": "markdown",
   "id": "f02e822f",
   "metadata": {},
   "source": [
    "Redes neurais trabalham com números, todavia, temos um atributo <b>categórico nominal</b>, o `event`. Como há apenas dois rótulos, `stim` e `cue`, conseguimos substituí-los por `0` e `1`. Aqui, `stim = 1` e `cue = 0`."
   ]
  },
  {
   "cell_type": "code",
   "execution_count": 3,
   "id": "b1630329-1493-4da3-97bc-bfdc284f5a9f",
   "metadata": {},
   "outputs": [
    {
     "data": {
      "text/html": [
       "<div>\n",
       "<style scoped>\n",
       "    .dataframe tbody tr th:only-of-type {\n",
       "        vertical-align: middle;\n",
       "    }\n",
       "\n",
       "    .dataframe tbody tr th {\n",
       "        vertical-align: top;\n",
       "    }\n",
       "\n",
       "    .dataframe thead th {\n",
       "        text-align: right;\n",
       "    }\n",
       "</style>\n",
       "<table border=\"1\" class=\"dataframe\">\n",
       "  <thead>\n",
       "    <tr style=\"text-align: right;\">\n",
       "      <th></th>\n",
       "      <th>timepoint</th>\n",
       "      <th>signal</th>\n",
       "      <th>event</th>\n",
       "      <th>region</th>\n",
       "    </tr>\n",
       "  </thead>\n",
       "  <tbody>\n",
       "    <tr>\n",
       "      <th>0</th>\n",
       "      <td>18</td>\n",
       "      <td>-0.017552</td>\n",
       "      <td>1</td>\n",
       "      <td>parietal</td>\n",
       "    </tr>\n",
       "    <tr>\n",
       "      <th>1</th>\n",
       "      <td>14</td>\n",
       "      <td>-0.080883</td>\n",
       "      <td>1</td>\n",
       "      <td>parietal</td>\n",
       "    </tr>\n",
       "    <tr>\n",
       "      <th>2</th>\n",
       "      <td>18</td>\n",
       "      <td>-0.081033</td>\n",
       "      <td>1</td>\n",
       "      <td>parietal</td>\n",
       "    </tr>\n",
       "    <tr>\n",
       "      <th>3</th>\n",
       "      <td>18</td>\n",
       "      <td>-0.046134</td>\n",
       "      <td>1</td>\n",
       "      <td>parietal</td>\n",
       "    </tr>\n",
       "    <tr>\n",
       "      <th>4</th>\n",
       "      <td>18</td>\n",
       "      <td>-0.037970</td>\n",
       "      <td>1</td>\n",
       "      <td>parietal</td>\n",
       "    </tr>\n",
       "  </tbody>\n",
       "</table>\n",
       "</div>"
      ],
      "text/plain": [
       "   timepoint    signal event    region\n",
       "0         18 -0.017552     1  parietal\n",
       "1         14 -0.080883     1  parietal\n",
       "2         18 -0.081033     1  parietal\n",
       "3         18 -0.046134     1  parietal\n",
       "4         18 -0.037970     1  parietal"
      ]
     },
     "execution_count": 3,
     "metadata": {},
     "output_type": "execute_result"
    }
   ],
   "source": [
    "for i in range(len(df)):\n",
    "    if df[\"event\"][i] == \"stim\":\n",
    "        df.loc[i, \"event\"] = 1\n",
    "    else:\n",
    "        df.loc[i, \"event\"] = 0\n",
    "\n",
    "df.loc[0:4]"
   ]
  },
  {
   "cell_type": "markdown",
   "id": "c6f78846",
   "metadata": {},
   "source": [
    "Agora, estamos fazendo o mesmo para o nosso alvo, que é <b>binário</b>. Aqui, `parietal = 1` e `frontal = 0`."
   ]
  },
  {
   "cell_type": "code",
   "execution_count": 4,
   "id": "c10f59b1-a2a1-4585-92c3-0a67cbe5146d",
   "metadata": {},
   "outputs": [
    {
     "data": {
      "text/html": [
       "<div>\n",
       "<style scoped>\n",
       "    .dataframe tbody tr th:only-of-type {\n",
       "        vertical-align: middle;\n",
       "    }\n",
       "\n",
       "    .dataframe tbody tr th {\n",
       "        vertical-align: top;\n",
       "    }\n",
       "\n",
       "    .dataframe thead th {\n",
       "        text-align: right;\n",
       "    }\n",
       "</style>\n",
       "<table border=\"1\" class=\"dataframe\">\n",
       "  <thead>\n",
       "    <tr style=\"text-align: right;\">\n",
       "      <th></th>\n",
       "      <th>timepoint</th>\n",
       "      <th>signal</th>\n",
       "      <th>event</th>\n",
       "      <th>region</th>\n",
       "    </tr>\n",
       "  </thead>\n",
       "  <tbody>\n",
       "    <tr>\n",
       "      <th>0</th>\n",
       "      <td>18</td>\n",
       "      <td>-0.017552</td>\n",
       "      <td>1</td>\n",
       "      <td>1</td>\n",
       "    </tr>\n",
       "    <tr>\n",
       "      <th>1</th>\n",
       "      <td>14</td>\n",
       "      <td>-0.080883</td>\n",
       "      <td>1</td>\n",
       "      <td>1</td>\n",
       "    </tr>\n",
       "    <tr>\n",
       "      <th>2</th>\n",
       "      <td>18</td>\n",
       "      <td>-0.081033</td>\n",
       "      <td>1</td>\n",
       "      <td>1</td>\n",
       "    </tr>\n",
       "    <tr>\n",
       "      <th>3</th>\n",
       "      <td>18</td>\n",
       "      <td>-0.046134</td>\n",
       "      <td>1</td>\n",
       "      <td>1</td>\n",
       "    </tr>\n",
       "    <tr>\n",
       "      <th>4</th>\n",
       "      <td>18</td>\n",
       "      <td>-0.037970</td>\n",
       "      <td>1</td>\n",
       "      <td>1</td>\n",
       "    </tr>\n",
       "  </tbody>\n",
       "</table>\n",
       "</div>"
      ],
      "text/plain": [
       "   timepoint    signal event region\n",
       "0         18 -0.017552     1      1\n",
       "1         14 -0.080883     1      1\n",
       "2         18 -0.081033     1      1\n",
       "3         18 -0.046134     1      1\n",
       "4         18 -0.037970     1      1"
      ]
     },
     "execution_count": 4,
     "metadata": {},
     "output_type": "execute_result"
    }
   ],
   "source": [
    "for i in range(len(df)):\n",
    "    if df[\"region\"][i] == \"parietal\":\n",
    "        df.loc[i, \"region\"] = 1\n",
    "    else:\n",
    "        df.loc[i, \"region\"] = 0\n",
    "\n",
    "df.loc[0:4]"
   ]
  },
  {
   "cell_type": "markdown",
   "id": "57110d28",
   "metadata": {},
   "source": [
    "Por fim, vamos garantir que todos os números sejam `float`, para conseguirmos trabalhar com operações em uma rede neural. Como podemos perceber abaixo, apenas o atributo `signal` está como `float`."
   ]
  },
  {
   "cell_type": "code",
   "execution_count": 5,
   "id": "980c683f-2800-4c38-b508-395b04c2995b",
   "metadata": {},
   "outputs": [
    {
     "name": "stdout",
     "output_type": "stream",
     "text": [
      "timepoint      int64\n",
      "signal       float64\n",
      "event         object\n",
      "region        object\n",
      "dtype: object\n"
     ]
    }
   ],
   "source": [
    "print(df.dtypes)"
   ]
  },
  {
   "cell_type": "markdown",
   "id": "24e17ce5",
   "metadata": {},
   "source": [
    "Realizando a conversão."
   ]
  },
  {
   "cell_type": "code",
   "execution_count": 6,
   "id": "d31a01a9-e70c-4502-a95c-26276831bbf1",
   "metadata": {},
   "outputs": [
    {
     "name": "stdout",
     "output_type": "stream",
     "text": [
      "timepoint    float64\n",
      "signal       float64\n",
      "event        float64\n",
      "region       float64\n",
      "dtype: object\n"
     ]
    }
   ],
   "source": [
    "df[['event', 'timepoint', 'region']] = df[['event', 'timepoint', 'region']].astype(float)\n",
    "print(df.dtypes)"
   ]
  },
  {
   "cell_type": "markdown",
   "id": "bf01add7-a197-4af7-9ecc-6527ca61f90e",
   "metadata": {},
   "source": [
    "## 2.2. Importando as classes para MLP\n",
    "\n",
    "Aqui, estamos usando a estrutura de uma MLP regressora feita em Python puro por Daniel Roberto Cassar, no caderno didático ATP-303 NN 4.2 - Notebook MLP da matéria Redes Neurais e Algoritmos Genéticos. "
   ]
  },
  {
   "cell_type": "markdown",
   "id": "875135a8-6ae1-4af3-be29-498ff34386b3",
   "metadata": {},
   "source": [
    "### 2.2.1. Classe Valor"
   ]
  },
  {
   "cell_type": "markdown",
   "id": "5596e2dc",
   "metadata": {},
   "source": [
    "A única modificação realizada na classe valor foi adicionar o método `log`, porque ele será utilizado na função de perda Cross Entropy Score."
   ]
  },
  {
   "cell_type": "code",
   "execution_count": 7,
   "id": "3cb24ed7-ff1b-429f-9910-06caaf6f3477",
   "metadata": {
    "scrolled": true
   },
   "outputs": [],
   "source": [
    "import math\n",
    "\n",
    "class Valor:\n",
    "    def __init__(self, data, progenitor=(), operador_mae=\"\", rotulo=\"\"):\n",
    "        self.data = data\n",
    "        self.progenitor = progenitor\n",
    "        self.operador_mae = operador_mae\n",
    "        self.rotulo = rotulo\n",
    "        self.grad = 0\n",
    "\n",
    "    def __repr__(self):\n",
    "        return f\"Valor(data={self.data})\"\n",
    "    \n",
    "    def __add__(self, outro_valor):\n",
    "        \"\"\"Realiza a operação: self + outro_valor.\"\"\"\n",
    "        \n",
    "        if not isinstance(outro_valor, Valor):\n",
    "            outro_valor = Valor(outro_valor)\n",
    "            \n",
    "        progenitor = (self, outro_valor)\n",
    "        data = self.data + outro_valor.data\n",
    "        operador_mae = \"+\"\n",
    "        resultado = Valor(data, progenitor, operador_mae)\n",
    "        \n",
    "        def propagar_adicao():\n",
    "            self.grad += resultado.grad\n",
    "            outro_valor.grad += resultado.grad\n",
    "            \n",
    "        resultado.propagar = propagar_adicao\n",
    "        \n",
    "        return resultado\n",
    "    \n",
    "    def __mul__(self, outro_valor):\n",
    "        \"\"\"Realiza a operação: self * outro_valor.\"\"\"\n",
    "        \n",
    "        if not isinstance(outro_valor, Valor):\n",
    "            outro_valor = Valor(outro_valor)\n",
    "            \n",
    "        progenitor = (self, outro_valor)\n",
    "        data = self.data * outro_valor.data\n",
    "        operador_mae = \"*\"\n",
    "        resultado = Valor(data, progenitor, operador_mae)\n",
    "        \n",
    "        def propagar_multiplicacao():\n",
    "            self.grad += resultado.grad * outro_valor.data # grad_filho * derivada filho em relação a mãe\n",
    "            outro_valor.grad += resultado.grad * self.data\n",
    "            \n",
    "        resultado.propagar = propagar_multiplicacao\n",
    "        \n",
    "        return resultado\n",
    "    \n",
    "    def exp(self):\n",
    "        \"\"\"Realiza a operação: exp(self)\"\"\"\n",
    "        progenitor = (self, )\n",
    "        data = math.exp(self.data)\n",
    "        operador_mae = \"exp\"\n",
    "        resultado = Valor(data, progenitor, operador_mae)\n",
    "        \n",
    "        def propagar_exp():\n",
    "            self.grad += resultado.grad * data \n",
    "        \n",
    "        resultado.propagar = propagar_exp\n",
    "        \n",
    "        return resultado\n",
    "    \n",
    "    # Adicionamos o método log\n",
    "    def log(self): \n",
    "        \"\"\"Realiza a operação log(self)\"\"\"\n",
    "        progenitor = (self, )\n",
    "        data = math.log(self.data)\n",
    "        operador_mae = \"log\"\n",
    "        resultado = Valor(data, progenitor, operador_mae)\n",
    "\n",
    "        def propagar_log():\n",
    "            self.grad += resultado.grad * (1 / data) # Porque a derivada de ln é 1/x\n",
    "\n",
    "        resultado.propagar = propagar_log\n",
    "\n",
    "        return resultado\n",
    "    \n",
    "    def __pow__(self, expoente):\n",
    "        \"\"\"Realiza a operação: self ** expoente\"\"\"\n",
    "        assert isinstance(expoente, (int, float))\n",
    "        progenitor = (self, )\n",
    "        data = self.data ** expoente\n",
    "        operador_mae = f\"**{expoente}\"\n",
    "        resultado = Valor(data, progenitor, operador_mae)\n",
    "        \n",
    "        def propagar_pow():\n",
    "            self.grad += resultado.grad * (expoente * self.data ** (expoente - 1))\n",
    "        \n",
    "        resultado.propagar = propagar_pow\n",
    "        \n",
    "        return resultado\n",
    "    \n",
    "    def __truediv__(self, outro_valor):\n",
    "        \"\"\"Realiza a operação: self / outro_valor\"\"\"\n",
    "        return self * outro_valor ** (-1)\n",
    "    \n",
    "    def __neg__(self):\n",
    "        \"\"\"Realiza a operação: -self\"\"\"\n",
    "        return self * -1\n",
    "    \n",
    "    def __sub__(self, outro_valor):\n",
    "        \"\"\"Realiza a operação: self - outro_valor\"\"\"\n",
    "        return self + (-outro_valor)\n",
    "    \n",
    "    def __radd__(self, outro_valor):\n",
    "        \"\"\"Realiza a operação: outro_valor + self\"\"\"\n",
    "        return self + outro_valor\n",
    "    \n",
    "    def __rmul__(self, outro_valor):\n",
    "        \"\"\"Realiza a operação: outro_valor * self\"\"\"\n",
    "        return self * outro_valor\n",
    "    \n",
    "    def sig(self):                          \n",
    "        \"\"\"Realiza a operação: exp(self) / (exp(self) + 1)\"\"\"\n",
    "        return self.exp() / (self.exp() + 1)\n",
    "    \n",
    "    def propagar(self):\n",
    "        pass\n",
    "    \n",
    "    def propagar_tudo(self):\n",
    "        \n",
    "        self.grad = 1\n",
    "        \n",
    "        ordem_topologica = []\n",
    "        \n",
    "        visitados = set()\n",
    "\n",
    "        def constroi_ordem_topologica(v):\n",
    "            if v not in visitados:\n",
    "                visitados.add(v)\n",
    "                for progenitor in v.progenitor:\n",
    "                    constroi_ordem_topologica(progenitor)\n",
    "                ordem_topologica.append(v)\n",
    "\n",
    "        constroi_ordem_topologica(self)\n",
    "        \n",
    "        for vertice in reversed(ordem_topologica):\n",
    "            vertice.propagar()"
   ]
  },
  {
   "cell_type": "markdown",
   "id": "94575130-d73f-47e5-a2cf-ef1a5a6bda99",
   "metadata": {},
   "source": [
    "### 2.2.2. Classe Neuronio\n",
    "\n",
    "Não houve modificações"
   ]
  },
  {
   "cell_type": "code",
   "execution_count": 8,
   "id": "d71c6a18-6e46-4572-b25f-08aaa6b04239",
   "metadata": {},
   "outputs": [],
   "source": [
    "import random\n",
    "\n",
    "class Neuronio:\n",
    "    def __init__(self, num_dados_entrada):\n",
    "        self.vies = Valor(random.uniform(-1, 1))\n",
    "        \n",
    "        self.pesos = []\n",
    "        for i in range(num_dados_entrada):\n",
    "            self.pesos.append(Valor(random.uniform(-1, 1)))\n",
    "            \n",
    "    def __call__(self, x):\n",
    "        \n",
    "        assert len(x) == len(self.pesos)\n",
    "        \n",
    "        soma = 0\n",
    "        for info_entrada, peso_interno in zip(x, self.pesos):\n",
    "            soma += info_entrada * peso_interno\n",
    "            \n",
    "        soma += self.vies  \n",
    "        dado_de_saida = soma.sig()         \n",
    "        \n",
    "        return dado_de_saida       \n",
    "    \n",
    "    def parametros(self):\n",
    "        return self.pesos + [self.vies]"
   ]
  },
  {
   "cell_type": "markdown",
   "id": "9920f428-61cf-4400-a570-48144f4be2e5",
   "metadata": {},
   "source": [
    "### 2.2.3. Classe Camada\n",
    "\n",
    "Não houve modificações"
   ]
  },
  {
   "cell_type": "code",
   "execution_count": 9,
   "id": "e8a3bd6a-964c-4214-aac6-0c7aa83fc29a",
   "metadata": {},
   "outputs": [],
   "source": [
    "class Camada:\n",
    "    def __init__(self, num_neuronios, num_dados_entrada):\n",
    "        neuronios = []\n",
    "        \n",
    "        for _ in range(num_neuronios):\n",
    "            neuronio = Neuronio(num_dados_entrada)\n",
    "            neuronios.append(neuronio)\n",
    "            \n",
    "        self.neuronios = neuronios     \n",
    "        \n",
    "    def __call__(self, x):\n",
    "        dados_de_saida = []\n",
    "        \n",
    "        for neuronio in self.neuronios:\n",
    "            informacao = neuronio(x)\n",
    "            dados_de_saida.append(informacao)\n",
    "            \n",
    "        if len(dados_de_saida) == 1:\n",
    "            return dados_de_saida[0]\n",
    "        else:        \n",
    "            return dados_de_saida  \n",
    "    \n",
    "    def parametros(self):\n",
    "        params = []\n",
    "        \n",
    "        for neuronio in self.neuronios:\n",
    "            params_neuronio = neuronio.parametros()\n",
    "            params.extend(params_neuronio)\n",
    "        \n",
    "        return params"
   ]
  },
  {
   "cell_type": "markdown",
   "id": "040e7c35-3dd6-4886-80ae-e77ae0cba685",
   "metadata": {},
   "source": [
    "### 2.2.4. Classe MLP\n",
    "\n",
    "Não houve modificações."
   ]
  },
  {
   "cell_type": "code",
   "execution_count": 10,
   "id": "67ac639c-1400-4c6d-ac6a-2d6c7fa04fc5",
   "metadata": {},
   "outputs": [],
   "source": [
    "class MLP:\n",
    "    def __init__(self, num_dados_entrada, num_neuronios_por_camada):\n",
    "        \n",
    "        percurso = [num_dados_entrada] + num_neuronios_por_camada\n",
    "        \n",
    "        camadas = []\n",
    "        \n",
    "        for i in range(len(num_neuronios_por_camada)):\n",
    "            camada = Camada(num_neuronios_por_camada[i], percurso[i])\n",
    "            camadas.append(camada)\n",
    "            \n",
    "        self.camadas = camadas\n",
    "        \n",
    "    def __call__(self, x):\n",
    "        for camada in self.camadas:\n",
    "            x = camada(x)\n",
    "        return x\n",
    "    \n",
    "    def parametros(self):\n",
    "        params = []\n",
    "        \n",
    "        for camada in self.camadas:\n",
    "            parametros_camada = camada.parametros()\n",
    "            params.extend(parametros_camada)\n",
    "            \n",
    "        return params"
   ]
  },
  {
   "cell_type": "markdown",
   "id": "ab21ea93-3b28-4fa6-b32d-b25512ad532b",
   "metadata": {},
   "source": [
    "## 2.3. Treinando a rede neural"
   ]
  },
  {
   "cell_type": "markdown",
   "id": "57f29a3f-6e5e-486b-98ae-fcf18e9ac159",
   "metadata": {},
   "source": [
    "### 2.3.1. Separando em treino e teste\n",
    "\n",
    "Iremos separar os dados em treino e teste na proporção 80/20, respectivamente."
   ]
  },
  {
   "cell_type": "code",
   "execution_count": 11,
   "id": "96202100-17ab-45e8-9703-dcafc34302f4",
   "metadata": {},
   "outputs": [],
   "source": [
    "from sklearn.model_selection import train_test_split\n",
    "\n",
    "TAMANHO_TESTE = 0.2\n",
    "SEMENTE_ALEATORIA = 292025\n",
    "\n",
    "indices = df.index\n",
    "indices_treino, indices_teste = train_test_split(\n",
    "    indices, test_size=TAMANHO_TESTE, random_state=SEMENTE_ALEATORIA\n",
    ")\n",
    "\n",
    "df_treino = df.loc[indices_treino]\n",
    "df_teste = df.loc[indices_teste]"
   ]
  },
  {
   "cell_type": "markdown",
   "id": "8f1b8152-338c-41dd-9a61-38f079d0742d",
   "metadata": {},
   "source": [
    "### 2.3.2. Criando a MLP classificadora"
   ]
  },
  {
   "cell_type": "markdown",
   "id": "f432dbd7",
   "metadata": {},
   "source": [
    "Aqui, estamos formando uma matriz - por isso importamos `numpy` - na qual cada linha temos os atributos de cada participante, e formamos uma lista com os nossos valores de `y` verdadeiros.\n",
    "\n",
    "Também definimos alguns <b>hiperparâmetros</b> da nossa MLP, como o número de neurônios de camada e a quantidade de camadas, em `CAMADAS_OCULTAS`."
   ]
  },
  {
   "cell_type": "code",
   "execution_count": 12,
   "id": "424bc2c5-38c2-4e1c-975a-277bac327646",
   "metadata": {},
   "outputs": [],
   "source": [
    "import numpy as np\n",
    "\n",
    "x = [list(df_treino.iloc[i])[:-1] for i in range(len(df_treino))]\n",
    "y_true = list(df_treino[\"region\"])\n",
    "\n",
    "NUM_DADOS_DE_ENTRADA = len(FEATURES)  \n",
    "NUM_DADOS_DE_SAIDA = len(TARGET)    \n",
    "CAMADAS_OCULTAS = [10, 6]  \n",
    "\n",
    "arquitetura_da_rede = CAMADAS_OCULTAS + [NUM_DADOS_DE_SAIDA]\n",
    "\n",
    "minha_mlp = MLP(NUM_DADOS_DE_ENTRADA, arquitetura_da_rede)"
   ]
  },
  {
   "cell_type": "markdown",
   "id": "355e82dc-9c84-4707-b01d-c2aef4bf6e9d",
   "metadata": {},
   "source": [
    "### 2.3.3. Treinando com a <i>loss</i> específica para classificação"
   ]
  },
  {
   "cell_type": "markdown",
   "id": "c1c790ac",
   "metadata": {},
   "source": [
    "Vamos treinar a nossa MLP, e, uma etapa fundamental é escolher uma função de perda apropriada. Para problemas de classificação binária, a mais adequada geralmente é a <b>Cross Entropy Score</b>, que calcula a diferença entre a probabilidade predita e a probabilidade real. Utilizaremos a versão de Cross Entropy adequada para problemas binários (por isso o `bin` no nome da função)."
   ]
  },
  {
   "cell_type": "code",
   "execution_count": 13,
   "id": "7d882aee-fbe6-43a9-8214-935ed1898b23",
   "metadata": {},
   "outputs": [],
   "source": [
    "import math\n",
    "\n",
    "def bin_cross_entropy(y_true, y_pred):\n",
    "\n",
    "    soma = 0\n",
    "    for yt, yp in zip(y_true, y_pred):\n",
    "        elemento_somatorio = yt * yp.log() + (Valor(1) - yt) * (Valor(1) - yp).log()\n",
    "        soma += elemento_somatorio\n",
    "    \n",
    "    loss = - soma / len(y_true)\n",
    "    \n",
    "    return loss"
   ]
  },
  {
   "cell_type": "markdown",
   "id": "155306a4",
   "metadata": {},
   "source": [
    "Treinando a MLP."
   ]
  },
  {
   "cell_type": "code",
   "execution_count": 14,
   "id": "72d14d6a-168f-40fd-b9f4-a0068221969d",
   "metadata": {},
   "outputs": [
    {
     "name": "stdout",
     "output_type": "stream",
     "text": [
      "0 0.701175322022882\n",
      "1 0.6958540966792606\n",
      "2 0.6938271218959998\n",
      "3 0.6932371807536591\n",
      "4 0.6932189568018386\n",
      "5 0.6933911591268922\n",
      "6 0.6935972104801406\n",
      "7 0.6937804118406808\n",
      "8 0.6939260872176789\n",
      "9 0.6940356719318395\n",
      "10 0.6941155996702018\n",
      "11 0.6941728623706678\n",
      "12 0.6942134763519133\n",
      "13 0.6942421461815034\n",
      "14 0.6942623727615079\n",
      "15 0.6942766875578779\n",
      "16 0.6942868889482378\n",
      "17 0.6942942401365844\n",
      "18 0.694299621856193\n",
      "19 0.6943036451486423\n",
      "20 0.694306732540917\n",
      "21 0.6943091755477787\n",
      "22 0.694311174986355\n",
      "23 0.694312869049505\n",
      "24 0.694314352766649\n",
      "25 0.6943156914532215\n",
      "26 0.6943169299863947\n",
      "27 0.6943180991933099\n",
      "28 0.6943192202463939\n",
      "29 0.6943203076855263\n",
      "30 0.6943213714950357\n",
      "31 0.6943224185307181\n",
      "32 0.694323453500051\n",
      "33 0.6943244796353873\n",
      "34 0.6943254991562466\n",
      "35 0.6943265135867673\n",
      "36 0.6943275239736564\n",
      "37 0.6943285310358508\n",
      "38 0.6943295352672532\n",
      "39 0.6943305370072861\n",
      "40 0.6943315364893061\n",
      "41 0.6943325338738634\n",
      "42 0.6943335292715224\n",
      "43 0.6943345227585321\n",
      "44 0.6943355143875799\n",
      "45 0.6943365041951842\n",
      "46 0.6943374922067574\n",
      "47 0.6943384784400864\n",
      "48 0.6943394629077265\n",
      "49 0.6943404456186375\n",
      "50 0.6943414265793078\n",
      "51 0.6943424057945339\n",
      "52 0.6943433832679428\n",
      "53 0.6943443590023629\n",
      "54 0.6943453330000717\n",
      "55 0.6943463052629667\n",
      "56 0.6943472757926814\n",
      "57 0.6943482445906727\n",
      "58 0.6943492116582706\n",
      "59 0.6943501769967163\n",
      "60 0.694351140607195\n",
      "61 0.694352102490847\n",
      "62 0.6943530626487808\n",
      "63 0.6943540210820855\n",
      "64 0.6943549777918342\n",
      "65 0.6943559327790892\n",
      "66 0.6943568860449033\n",
      "67 0.694357837590324\n",
      "68 0.69435878741639\n",
      "69 0.6943597355241415\n",
      "70 0.6943606819146088\n",
      "71 0.6943616265888253\n",
      "72 0.6943625695478174\n",
      "73 0.6943635107926113\n",
      "74 0.6943644503242313\n",
      "75 0.6943653881436987\n",
      "76 0.6943663242520334\n",
      "77 0.6943672586502545\n",
      "78 0.6943681913393809\n",
      "79 0.6943691223204268\n",
      "80 0.6943700515944085\n",
      "81 0.6943709791623395\n",
      "82 0.6943719050252327\n",
      "83 0.694372829184101\n",
      "84 0.6943737516399586\n",
      "85 0.694374672393815\n",
      "86 0.6943755914466804\n",
      "87 0.6943765087995662\n",
      "88 0.6943774244534827\n",
      "89 0.6943783384094381\n",
      "90 0.694379250668446\n",
      "91 0.694380161231515\n",
      "92 0.6943810700996546\n",
      "93 0.6943819772738786\n",
      "94 0.6943828827551934\n",
      "95 0.6943837865446142\n",
      "96 0.6943846886431513\n",
      "97 0.6943855890518178\n",
      "98 0.6943864877716275\n",
      "99 0.6943873848035939\n"
     ]
    }
   ],
   "source": [
    "NUM_EPOCAS = 100\n",
    "TAXA_DE_APRENDIZADO = 0.3\n",
    "\n",
    "for epoca in range(NUM_EPOCAS):\n",
    "    # forward pass\n",
    "    y_pred = []\n",
    "    for exemplo in x:\n",
    "        previsao = minha_mlp(exemplo)\n",
    "        y_pred.append(previsao)\n",
    "    \n",
    "    # loss\n",
    "    loss = bin_cross_entropy(y_true, y_pred)\n",
    "\n",
    "    # zero grad\n",
    "    for p in minha_mlp.parametros():\n",
    "        p.grad = 0\n",
    "\n",
    "    # backpropagation\n",
    "    loss.propagar_tudo()\n",
    "\n",
    "    # atualiza parâmetros\n",
    "    for p in minha_mlp.parametros():\n",
    "        p.data = p.data - p.grad * TAXA_DE_APRENDIZADO\n",
    "\n",
    "    # mostra resultado (opcional)\n",
    "    print(epoca, loss.data)"
   ]
  },
  {
   "cell_type": "markdown",
   "id": "bda0450f-6020-4308-b7f7-0d23d81d162e",
   "metadata": {},
   "source": [
    "### 2.3.4. Performance da MLP"
   ]
  },
  {
   "cell_type": "markdown",
   "id": "74d39049",
   "metadata": {},
   "source": [
    "Agora que temos a mossa MLP treinada, precisamos avaliar sua performance, para saber se ela é razoável. \n",
    "\n",
    "Vamos realizar a previsão dos nossos dados de teste."
   ]
  },
  {
   "cell_type": "code",
   "execution_count": 15,
   "id": "c726207b-880a-4c9c-be02-14b75d5a542a",
   "metadata": {},
   "outputs": [],
   "source": [
    "x = [list(df_teste.iloc[i])[:-1] for i in range(len(df_teste))]\n",
    "y_true = list(df_teste[\"region\"])\n",
    "\n",
    "y_pred = []\n",
    "for exemplo in x:\n",
    "    previsao = minha_mlp(exemplo)\n",
    "    y_pred.append(previsao)"
   ]
  },
  {
   "cell_type": "markdown",
   "id": "23e7df07",
   "metadata": {},
   "source": [
    "Agora que temos a nossa previsão em valores numéricos, podemos convertê-los novamente para `parietal` e `frontal`."
   ]
  },
  {
   "cell_type": "code",
   "execution_count": 16,
   "id": "1a892606-119c-4f24-a103-4e44b6bada1a",
   "metadata": {},
   "outputs": [],
   "source": [
    "y_true = [\"parietal\" if i > 0.5 else \"frontal\" for i in y_true] # Os dados em y_true são float\n",
    "y_pred = [\"parietal\" if i.data > 0.5 else \"frontal\" for i in y_pred] # Os dados em y_pred são da classe Valor\n",
    "\n",
    "y_verdadeiro = y_true\n",
    "y_previsao = y_pred"
   ]
  },
  {
   "cell_type": "markdown",
   "id": "76fc5b71",
   "metadata": {},
   "source": [
    "Hora de avaliar a acurácia! Acurácia é a quantidade de previsões corretas dividida pela quantidade total de previsões."
   ]
  },
  {
   "cell_type": "code",
   "execution_count": 17,
   "id": "86c395a9-8f88-4de5-89bd-b2e26a5c5464",
   "metadata": {},
   "outputs": [
    {
     "name": "stdout",
     "output_type": "stream",
     "text": [
      "Acurácia = 55.87%\n"
     ]
    }
   ],
   "source": [
    "from sklearn.metrics import accuracy_score\n",
    "\n",
    "acuracia = accuracy_score(y_verdadeiro, y_previsao)\n",
    "\n",
    "print(f\"Acurácia = {(acuracia*100):.2f}%\")"
   ]
  },
  {
   "cell_type": "markdown",
   "id": "d872a9d4",
   "metadata": {},
   "source": [
    "Vamos visualizar isso em uma matriz confusão."
   ]
  },
  {
   "cell_type": "code",
   "execution_count": 18,
   "id": "a3237afb-373a-4da1-b525-73f0a21b12d1",
   "metadata": {},
   "outputs": [
    {
     "data": {
      "image/png": "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",
      "text/plain": [
       "<Figure size 640x480 with 2 Axes>"
      ]
     },
     "metadata": {},
     "output_type": "display_data"
    }
   ],
   "source": [
    "import pandas as pd\n",
    "from sklearn.metrics import confusion_matrix\n",
    "\n",
    "matriz_conf = confusion_matrix(y_verdadeiro, y_previsao, labels=ordem_labels)\n",
    "df_conf = pd.DataFrame(matriz_conf, ordem_labels, ordem_labels)\n",
    "sns.heatmap(df_conf, annot=True, annot_kws={\"size\": 16});"
   ]
  },
  {
   "cell_type": "markdown",
   "id": "2ca2ec90-039c-4d47-a2d6-e104777faf9e",
   "metadata": {},
   "source": [
    "# 😁 Conclusão"
   ]
  },
  {
   "cell_type": "markdown",
   "id": "3db73d03-3396-459c-b920-8042beef6c24",
   "metadata": {},
   "source": [
    "<div style=\"text-align: justify\"> O notebook mostra como foi possível adaptar uma rede neural artificial regressora em uma rede neural artificial classificadora. A função de ativação sigmoide foi mantida porque estamos trabalhando com uma classificação binária, contudo, foi necessário modificar a função de perda. A função de perda para problemas de regressão era a soma dos erros quadráticos, mas para problemas de classificação, a função logarítmica de perda é mais apropriada."
   ]
  },
  {
   "cell_type": "markdown",
   "id": "b239ffac-1d17-410c-b3f3-3b531d723482",
   "metadata": {},
   "source": [
    "# 📚 Referências\n",
    "<div style=\"text-align: justify\"> ${1}$ <strong><a href=\"https://github.com/mwaskom/seaborn-data\" target=\"_blank\">\n",
    "         GitHub - mwaskom/seaborn-data: Data repository for seaborn examples\n",
    "      </a></strong>. Acesso em 6 de abril de 2025.  <p> \n",
    "\n",
    "<div style=\"text-align: justify\"> ${2}$ <strong><a href=\"https://academic.oup.com/cercor/article/27/2/1270/3056315?keytype=ref&ijkey=5hjFprzQ7miiYZ4.\" target=\"_blank\">\n",
    "        “Adaptive Engagement of Cognitive Control in Context-Dependent Decision Making | Cerebral Cortex | Oxford Academic\"\n",
    "      </a></strong>. Acesso em 6 de abril de 2025. <p></p>\n",
    "\n",
    "<div style=\"text-align: justify\"> ${3}$ <strong><a href=\"https://www.geeksforgeeks.org/classification-of-neural-network-in-tensorflow/\" target=\"_blank\">\n",
    "        “Classification of Neural Network in TensorFlow | GeeksforGeeks”\n",
    "      </a></strong>. Acesso em 6 de abril de 2025. <p></p>\n",
    "\n",
    "<div style=\"text-align: justify\"> ${4}$ <strong><a href=\"https://www.geeksforgeeks.org/what-is-cross-entropy-loss-function/\" target=\"_blank\">\n",
    "        GeeksforGeeks. “What Is Cross-Entropy Loss Function?”\n",
    "      </a></strong>. Acesso em 6 de abril de 2025. <p></p>\n",
    "\n",
    "<div style=\"text-align: justify\"> ${5}$ <strong><a href=\"https://medium.com/analytics-vidhya/a-simple-neural-network-classifier-using-pytorch-from-scratch-7ebb477422d2\" target=\"_blank\">\n",
    "        Kuriakose, Jeril. “A Simple Neural Network Classifier Using PyTorch, from Scratch”. Analytics Vidhya (blog)\n",
    "      </a></strong>. Acesso em 6 de abril de 2025. <p></p>\n"
   ]
  }
 ],
 "metadata": {
  "kernelspec": {
   "display_name": "ilumpy",
   "language": "python",
   "name": "ilumpy"
  },
  "language_info": {
   "codemirror_mode": {
    "name": "ipython",
    "version": 3
   },
   "file_extension": ".py",
   "mimetype": "text/x-python",
   "name": "python",
   "nbconvert_exporter": "python",
   "pygments_lexer": "ipython3",
   "version": "3.11.6"
  }
 },
 "nbformat": 4,
 "nbformat_minor": 5
}
